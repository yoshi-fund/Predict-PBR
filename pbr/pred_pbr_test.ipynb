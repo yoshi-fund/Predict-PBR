{
 "cells": [
  {
   "cell_type": "code",
   "execution_count": 17,
   "id": "ed6f52d5",
   "metadata": {},
   "outputs": [],
   "source": [
    "import pandas as pd\n",
    "import numpy as np"
   ]
  },
  {
   "cell_type": "code",
   "execution_count": 18,
   "id": "2a6aba5b",
   "metadata": {},
   "outputs": [
    {
     "data": {
      "text/html": [
       "<div>\n",
       "<style scoped>\n",
       "    .dataframe tbody tr th:only-of-type {\n",
       "        vertical-align: middle;\n",
       "    }\n",
       "\n",
       "    .dataframe tbody tr th {\n",
       "        vertical-align: top;\n",
       "    }\n",
       "\n",
       "    .dataframe thead th {\n",
       "        text-align: right;\n",
       "    }\n",
       "</style>\n",
       "<table border=\"1\" class=\"dataframe\">\n",
       "  <thead>\n",
       "    <tr style=\"text-align: right;\">\n",
       "      <th></th>\n",
       "      <th>銘柄コード</th>\n",
       "      <th>会社名</th>\n",
       "      <th>時価総額</th>\n",
       "      <th>PER(会予)</th>\n",
       "      <th>PBR</th>\n",
       "      <th>配当利回り(会予)</th>\n",
       "      <th>売上高</th>\n",
       "      <th>売上総利益率</th>\n",
       "      <th>営業CF/売上比率</th>\n",
       "      <th>販管費/売上比率</th>\n",
       "      <th>...</th>\n",
       "      <th>棚卸資産</th>\n",
       "      <th>棚卸資産回転数</th>\n",
       "      <th>有形固定資産</th>\n",
       "      <th>固定負債</th>\n",
       "      <th>有利子負債</th>\n",
       "      <th>純有利子負債</th>\n",
       "      <th>純資産</th>\n",
       "      <th>自己資本</th>\n",
       "      <th>フリーCF</th>\n",
       "      <th>研究開発/売上比率</th>\n",
       "    </tr>\n",
       "  </thead>\n",
       "  <tbody>\n",
       "    <tr>\n",
       "      <th>0</th>\n",
       "      <td>2914</td>\n",
       "      <td>本たばこ産業</td>\n",
       "      <td>7,968,851</td>\n",
       "      <td>17.7</td>\n",
       "      <td>2.1</td>\n",
       "      <td>4.3</td>\n",
       "      <td>3,149,759</td>\n",
       "      <td>55.3</td>\n",
       "      <td>20.0</td>\n",
       "      <td>46.4</td>\n",
       "      <td>...</td>\n",
       "      <td>957,281</td>\n",
       "      <td>248.3</td>\n",
       "      <td>907,700</td>\n",
       "      <td>2,373,398</td>\n",
       "      <td>1,726,788</td>\n",
       "      <td>522,010</td>\n",
       "      <td>3,848,727</td>\n",
       "      <td>3,766,623</td>\n",
       "      <td>479,644</td>\n",
       "      <td>2.5</td>\n",
       "    </tr>\n",
       "    <tr>\n",
       "      <th>1</th>\n",
       "      <td>4519</td>\n",
       "      <td>中外製薬</td>\n",
       "      <td>14,185,201</td>\n",
       "      <td>NaN</td>\n",
       "      <td>7.4</td>\n",
       "      <td>2.9</td>\n",
       "      <td>1,170,611</td>\n",
       "      <td>71.0</td>\n",
       "      <td>38.2</td>\n",
       "      <td>9.4</td>\n",
       "      <td>...</td>\n",
       "      <td>233,090</td>\n",
       "      <td>250.7</td>\n",
       "      <td>448,498</td>\n",
       "      <td>23,832</td>\n",
       "      <td>NaN</td>\n",
       "      <td>944,550</td>\n",
       "      <td>1,907,222</td>\n",
       "      <td>1,907,222</td>\n",
       "      <td>393,211</td>\n",
       "      <td>15.1</td>\n",
       "    </tr>\n",
       "    <tr>\n",
       "      <th>2</th>\n",
       "      <td>6098</td>\n",
       "      <td>リクルートHD</td>\n",
       "      <td>12,232,612</td>\n",
       "      <td>30.4</td>\n",
       "      <td>6.8</td>\n",
       "      <td>0.3</td>\n",
       "      <td>3,416,492</td>\n",
       "      <td>57.5</td>\n",
       "      <td>15.7</td>\n",
       "      <td>44.5</td>\n",
       "      <td>...</td>\n",
       "      <td>NaN</td>\n",
       "      <td>NaN</td>\n",
       "      <td>58,041</td>\n",
       "      <td>338,888</td>\n",
       "      <td>200,746</td>\n",
       "      <td>674,810</td>\n",
       "      <td>1,808,714</td>\n",
       "      <td>1,798,917</td>\n",
       "      <td>465,433</td>\n",
       "      <td>4.5</td>\n",
       "    </tr>\n",
       "    <tr>\n",
       "      <th>3</th>\n",
       "      <td>6501</td>\n",
       "      <td>立製作所</td>\n",
       "      <td>16,814,533</td>\n",
       "      <td>23.7</td>\n",
       "      <td>2.9</td>\n",
       "      <td>NaN</td>\n",
       "      <td>9,783,370</td>\n",
       "      <td>28.8</td>\n",
       "      <td>12.0</td>\n",
       "      <td>18.9</td>\n",
       "      <td>...</td>\n",
       "      <td>1,566,282</td>\n",
       "      <td>82.1</td>\n",
       "      <td>1,341,537</td>\n",
       "      <td>1,345,551</td>\n",
       "      <td>837,298</td>\n",
       "      <td>28,944</td>\n",
       "      <td>6,031,417</td>\n",
       "      <td>5,847,091</td>\n",
       "      <td>780,592</td>\n",
       "      <td>NaN</td>\n",
       "    </tr>\n",
       "    <tr>\n",
       "      <th>4</th>\n",
       "      <td>6758</td>\n",
       "      <td>ソニーG</td>\n",
       "      <td>22,485,988</td>\n",
       "      <td>20.8</td>\n",
       "      <td>2.7</td>\n",
       "      <td>NaN</td>\n",
       "      <td>11,260,037</td>\n",
       "      <td>28.2</td>\n",
       "      <td>12.2</td>\n",
       "      <td>19.1</td>\n",
       "      <td>...</td>\n",
       "      <td>1,389,047</td>\n",
       "      <td>62.7</td>\n",
       "      <td>1,526,777</td>\n",
       "      <td>16,380,543</td>\n",
       "      <td>2,088,195</td>\n",
       "      <td>552,251</td>\n",
       "      <td>8,524,922</td>\n",
       "      <td>8,185,199</td>\n",
       "      <td>749,267</td>\n",
       "      <td>6.6</td>\n",
       "    </tr>\n",
       "  </tbody>\n",
       "</table>\n",
       "<p>5 rows × 35 columns</p>\n",
       "</div>"
      ],
      "text/plain": [
       "  銘柄コード      会社名        時価総額  PER(会予)  PBR  配当利回り(会予)         売上高  売上総利益率  \\\n",
       "0  2914   本たばこ産業   7,968,851     17.7  2.1        4.3   3,149,759    55.3   \n",
       "1  4519     中外製薬  14,185,201      NaN  7.4        2.9   1,170,611    71.0   \n",
       "2  6098  リクルートHD  12,232,612     30.4  6.8        0.3   3,416,492    57.5   \n",
       "3  6501     立製作所  16,814,533     23.7  2.9        NaN   9,783,370    28.8   \n",
       "4  6758     ソニーG  22,485,988     20.8  2.7        NaN  11,260,037    28.2   \n",
       "\n",
       "   営業CF/売上比率  販管費/売上比率  ...       棚卸資産  棚卸資産回転数     有形固定資産        固定負債  \\\n",
       "0       20.0      46.4  ...    957,281    248.3    907,700   2,373,398   \n",
       "1       38.2       9.4  ...    233,090    250.7    448,498      23,832   \n",
       "2       15.7      44.5  ...        NaN      NaN     58,041     338,888   \n",
       "3       12.0      18.9  ...  1,566,282     82.1  1,341,537   1,345,551   \n",
       "4       12.2      19.1  ...  1,389,047     62.7  1,526,777  16,380,543   \n",
       "\n",
       "       有利子負債   純有利子負債        純資産       自己資本    フリーCF  研究開発/売上比率  \n",
       "0  1,726,788  522,010  3,848,727  3,766,623  479,644        2.5  \n",
       "1        NaN  944,550  1,907,222  1,907,222  393,211       15.1  \n",
       "2    200,746  674,810  1,808,714  1,798,917  465,433        4.5  \n",
       "3    837,298   28,944  6,031,417  5,847,091  780,592        NaN  \n",
       "4  2,088,195  552,251  8,524,922  8,185,199  749,267        6.6  \n",
       "\n",
       "[5 rows x 35 columns]"
      ]
     },
     "execution_count": 18,
     "metadata": {},
     "output_type": "execute_result"
    }
   ],
   "source": [
    "df = pd.read_csv('/Users/anaiyoshikazu/stock_docu/datasets/時価総額上位500社 - シート1.csv')\n",
    "\n",
    "df.head()"
   ]
  },
  {
   "cell_type": "code",
   "execution_count": 19,
   "id": "8ec498a3",
   "metadata": {},
   "outputs": [],
   "source": [
    "import pandas as pd\n",
    "\n",
    "# データの読み込み（例: CSVファイルから）\n",
    "# df = pd.read_csv('your_file.csv')\n",
    "\n",
    "# すでにDataFrameがあると仮定して、すべての文字列型・object型のカラムでカンマを削除\n",
    "df = df.applymap(lambda x: str(x).replace(',', '') if isinstance(x, (str)) else x)\n",
    "\n",
    "# 数値型に変換できるものは自動で変換\n",
    "df = df.apply(pd.to_numeric, errors='ignore')"
   ]
  },
  {
   "cell_type": "code",
   "execution_count": 20,
   "id": "79e1c155",
   "metadata": {},
   "outputs": [
    {
     "data": {
      "text/plain": [
       "銘柄コード           object\n",
       "会社名             object\n",
       "時価総額             int64\n",
       "PER(会予)        float64\n",
       "PBR            float64\n",
       "配当利回り(会予)      float64\n",
       "売上高            float64\n",
       "売上総利益率         float64\n",
       "営業CF/売上比率      float64\n",
       "販管費/売上比率       float64\n",
       "営業利益           float64\n",
       "営業利益率          float64\n",
       "当期純利益          float64\n",
       "純利益率           float64\n",
       "ROE            float64\n",
       "自己資本比率         float64\n",
       "有利子負債/総資産      float64\n",
       "有利子負債/時価総額     float64\n",
       "純有利子負債/時価総額    float64\n",
       "DEレシオ          float64\n",
       "流動比率           float64\n",
       "総資産            float64\n",
       "現金及び預金         float64\n",
       "売上債権           float64\n",
       "売上債権回転数        float64\n",
       "棚卸資産           float64\n",
       "棚卸資産回転数        float64\n",
       "有形固定資産         float64\n",
       "固定負債           float64\n",
       "有利子負債          float64\n",
       "純有利子負債         float64\n",
       "純資産            float64\n",
       "自己資本           float64\n",
       "フリーCF            int64\n",
       "研究開発/売上比率      float64\n",
       "dtype: object"
      ]
     },
     "execution_count": 20,
     "metadata": {},
     "output_type": "execute_result"
    }
   ],
   "source": [
    "df.dtypes"
   ]
  },
  {
   "cell_type": "code",
   "execution_count": 21,
   "id": "d8eaace5",
   "metadata": {},
   "outputs": [
    {
     "data": {
      "text/html": [
       "<div>\n",
       "<style scoped>\n",
       "    .dataframe tbody tr th:only-of-type {\n",
       "        vertical-align: middle;\n",
       "    }\n",
       "\n",
       "    .dataframe tbody tr th {\n",
       "        vertical-align: top;\n",
       "    }\n",
       "\n",
       "    .dataframe thead th {\n",
       "        text-align: right;\n",
       "    }\n",
       "</style>\n",
       "<table border=\"1\" class=\"dataframe\">\n",
       "  <thead>\n",
       "    <tr style=\"text-align: right;\">\n",
       "      <th></th>\n",
       "      <th>時価総額</th>\n",
       "      <th>PER(会予)</th>\n",
       "      <th>PBR</th>\n",
       "      <th>売上総利益率</th>\n",
       "      <th>営業CF/売上比率</th>\n",
       "      <th>営業利益率</th>\n",
       "      <th>ROE</th>\n",
       "      <th>自己資本比率</th>\n",
       "      <th>有利子負債/総資産</th>\n",
       "      <th>有利子負債/時価総額</th>\n",
       "      <th>純有利子負債/時価総額</th>\n",
       "      <th>DEレシオ</th>\n",
       "      <th>流動比率</th>\n",
       "      <th>総資産</th>\n",
       "      <th>現金及び預金</th>\n",
       "      <th>純有利子負債</th>\n",
       "    </tr>\n",
       "  </thead>\n",
       "  <tbody>\n",
       "    <tr>\n",
       "      <th>0</th>\n",
       "      <td>7968851</td>\n",
       "      <td>17.7</td>\n",
       "      <td>2.1</td>\n",
       "      <td>55.3</td>\n",
       "      <td>20.0</td>\n",
       "      <td>10.3</td>\n",
       "      <td>4.8</td>\n",
       "      <td>45.0</td>\n",
       "      <td>20.6</td>\n",
       "      <td>21.7</td>\n",
       "      <td>6.6</td>\n",
       "      <td>0.5</td>\n",
       "      <td>166.5</td>\n",
       "      <td>8370732.0</td>\n",
       "      <td>1084567.0</td>\n",
       "      <td>522010.0</td>\n",
       "    </tr>\n",
       "    <tr>\n",
       "      <th>1</th>\n",
       "      <td>14185201</td>\n",
       "      <td>NaN</td>\n",
       "      <td>7.4</td>\n",
       "      <td>71.0</td>\n",
       "      <td>38.2</td>\n",
       "      <td>46.3</td>\n",
       "      <td>20.3</td>\n",
       "      <td>89.1</td>\n",
       "      <td>NaN</td>\n",
       "      <td>0.0</td>\n",
       "      <td>6.7</td>\n",
       "      <td>NaN</td>\n",
       "      <td>727.5</td>\n",
       "      <td>2139482.0</td>\n",
       "      <td>423419.0</td>\n",
       "      <td>944550.0</td>\n",
       "    </tr>\n",
       "    <tr>\n",
       "      <th>2</th>\n",
       "      <td>12232612</td>\n",
       "      <td>30.4</td>\n",
       "      <td>6.8</td>\n",
       "      <td>57.5</td>\n",
       "      <td>15.7</td>\n",
       "      <td>11.8</td>\n",
       "      <td>19.7</td>\n",
       "      <td>61.8</td>\n",
       "      <td>6.9</td>\n",
       "      <td>1.6</td>\n",
       "      <td>5.5</td>\n",
       "      <td>0.1</td>\n",
       "      <td>203.5</td>\n",
       "      <td>2908790.0</td>\n",
       "      <td>871812.0</td>\n",
       "      <td>674810.0</td>\n",
       "    </tr>\n",
       "    <tr>\n",
       "      <th>3</th>\n",
       "      <td>16814533</td>\n",
       "      <td>23.7</td>\n",
       "      <td>2.9</td>\n",
       "      <td>28.8</td>\n",
       "      <td>12.0</td>\n",
       "      <td>9.9</td>\n",
       "      <td>10.5</td>\n",
       "      <td>44.0</td>\n",
       "      <td>6.3</td>\n",
       "      <td>5.0</td>\n",
       "      <td>0.2</td>\n",
       "      <td>0.1</td>\n",
       "      <td>111.7</td>\n",
       "      <td>13284813.0</td>\n",
       "      <td>866242.0</td>\n",
       "      <td>28944.0</td>\n",
       "    </tr>\n",
       "    <tr>\n",
       "      <th>4</th>\n",
       "      <td>22485988</td>\n",
       "      <td>20.8</td>\n",
       "      <td>2.7</td>\n",
       "      <td>28.2</td>\n",
       "      <td>12.2</td>\n",
       "      <td>10.7</td>\n",
       "      <td>11.9</td>\n",
       "      <td>22.7</td>\n",
       "      <td>5.8</td>\n",
       "      <td>9.3</td>\n",
       "      <td>2.5</td>\n",
       "      <td>0.3</td>\n",
       "      <td>68.2</td>\n",
       "      <td>35991547.0</td>\n",
       "      <td>2491949.0</td>\n",
       "      <td>552251.0</td>\n",
       "    </tr>\n",
       "  </tbody>\n",
       "</table>\n",
       "</div>"
      ],
      "text/plain": [
       "       時価総額  PER(会予)  PBR  売上総利益率  営業CF/売上比率  営業利益率   ROE  自己資本比率  有利子負債/総資産  \\\n",
       "0   7968851     17.7  2.1    55.3       20.0   10.3   4.8    45.0       20.6   \n",
       "1  14185201      NaN  7.4    71.0       38.2   46.3  20.3    89.1        NaN   \n",
       "2  12232612     30.4  6.8    57.5       15.7   11.8  19.7    61.8        6.9   \n",
       "3  16814533     23.7  2.9    28.8       12.0    9.9  10.5    44.0        6.3   \n",
       "4  22485988     20.8  2.7    28.2       12.2   10.7  11.9    22.7        5.8   \n",
       "\n",
       "   有利子負債/時価総額  純有利子負債/時価総額  DEレシオ   流動比率         総資産     現金及び預金    純有利子負債  \n",
       "0        21.7          6.6    0.5  166.5   8370732.0  1084567.0  522010.0  \n",
       "1         0.0          6.7    NaN  727.5   2139482.0   423419.0  944550.0  \n",
       "2         1.6          5.5    0.1  203.5   2908790.0   871812.0  674810.0  \n",
       "3         5.0          0.2    0.1  111.7  13284813.0   866242.0   28944.0  \n",
       "4         9.3          2.5    0.3   68.2  35991547.0  2491949.0  552251.0  "
      ]
     },
     "execution_count": 21,
     "metadata": {},
     "output_type": "execute_result"
    }
   ],
   "source": [
    "df = df.drop(columns=['配当利回り(会予)', '売上高', '販管費/売上比率', '営業利益', '当期純利益', '純利益率', '売上債権',\n",
    "                     '売上債権回転数', '棚卸資産', '棚卸資産回転数', '有形固定資産', '固定負債', '有利子負債', '純資産',\n",
    "                     '自己資本', 'フリーCF', '研究開発/売上比率', '会社名', '銘柄コード'])\n",
    "\n",
    "df.head()"
   ]
  },
  {
   "cell_type": "code",
   "execution_count": 22,
   "id": "38590bcc",
   "metadata": {},
   "outputs": [
    {
     "data": {
      "text/plain": [
       "PER(会予)      0\n",
       "ROE          0\n",
       "営業利益率        0\n",
       "有利子負債/総資産    0\n",
       "PBR          0\n",
       "dtype: int64"
      ]
     },
     "execution_count": 22,
     "metadata": {},
     "output_type": "execute_result"
    }
   ],
   "source": [
    "df = df[['PER(会予)', 'ROE','営業利益率', '有利子負債/総資産', 'PBR']]\n",
    "\n",
    "df.dropna(inplace=True)\n",
    "df.isna().sum()"
   ]
  },
  {
   "cell_type": "code",
   "execution_count": 23,
   "id": "c82de67a",
   "metadata": {},
   "outputs": [],
   "source": [
    "from sklearn.preprocessing import StandardScaler\n",
    "from sklearn.model_selection import train_test_split\n",
    "\n",
    "X = df.drop(columns=['PBR'])\n",
    "y = df['PBR']\n",
    "\n",
    "X_train,X_test,y_train,y_test = train_test_split(X,y, test_size=0.2, random_state=42)\n",
    "\n",
    "sc = StandardScaler()\n",
    "X_train = sc.fit_transform(X_train)\n",
    "X_test = sc.transform(X_test)"
   ]
  },
  {
   "cell_type": "code",
   "execution_count": 24,
   "id": "fc92e382",
   "metadata": {},
   "outputs": [
    {
     "name": "stdout",
     "output_type": "stream",
     "text": [
      "係数: [ 0.78333348  1.52834797  0.1367156  -0.10395639]\n",
      "切片: 2.0412371134020617\n"
     ]
    }
   ],
   "source": [
    "from sklearn.linear_model import LinearRegression\n",
    "\n",
    "lr = LinearRegression()\n",
    "\n",
    "lr_fit = lr.fit(X_train, y_train)\n",
    "print('係数:', lr.coef_)\n",
    "print('切片:', lr.intercept_)"
   ]
  },
  {
   "cell_type": "code",
   "execution_count": 25,
   "id": "0be86ab3",
   "metadata": {},
   "outputs": [
    {
     "name": "stdout",
     "output_type": "stream",
     "text": [
      "係数: [ 0.78333348  1.52834797  0.1367156  -0.10395639]\n",
      "切片: 2.0412371134020617\n"
     ]
    }
   ],
   "source": [
    "from sklearn.linear_model import LinearRegression\n",
    "\n",
    "lr = LinearRegression()\n",
    "\n",
    "lr_fit = lr.fit(X_train, y_train)\n",
    "\n",
    "print('係数:', lr.coef_)\n",
    "print('切片:', lr.intercept_)"
   ]
  },
  {
   "cell_type": "code",
   "execution_count": 26,
   "id": "e40016b2",
   "metadata": {},
   "outputs": [
    {
     "data": {
      "image/png": "[encoded data removed]",
      "text/plain": [
       "<Figure size 600x400 with 1 Axes>"
      ]
     },
     "metadata": {},
     "output_type": "display_data"
    }
   ],
   "source": [
    "import matplotlib.pyplot as plt\n",
    "import japanize_matplotlib\n",
    "\n",
    "# columnsから目的変数を除去\n",
    "test = df.drop(columns=['PBR'])\n",
    "feature_names = test.columns\n",
    "\n",
    "\n",
    "coefficients = lr.coef_\n",
    "\n",
    "plt.figure(figsize=(6, 4))\n",
    "plt.bar(feature_names, coefficients)\n",
    "plt.xlabel('特徴量')\n",
    "plt.ylabel('係数')\n",
    "plt.title('係数(重み)の可視化')\n",
    "plt.show()"
   ]
  },
  {
   "cell_type": "code",
   "execution_count": 27,
   "id": "97c4293e",
   "metadata": {},
   "outputs": [
    {
     "name": "stderr",
     "output_type": "stream",
     "text": [
      "/Library/Frameworks/Python.framework/Versions/3.11/lib/python3.11/site-packages/sklearn/base.py:465: UserWarning: X does not have valid feature names, but StandardScaler was fitted with feature names\n",
      "  warnings.warn(\n"
     ]
    },
    {
     "data": {
      "text/plain": [
       "array([1.13824615, 0.64769399, 2.28106584, 1.72769012, 0.88999212,\n",
       "       0.76920484, 6.11631903, 1.94970748, 2.7423537 , 1.22449618])"
      ]
     },
     "execution_count": 27,
     "metadata": {},
     "output_type": "execute_result"
    }
   ],
   "source": [
    "X_new = np.array([\n",
    "    [14.8, 6, 36.7, 23.7],\n",
    "    [5.4, 7, 23.8, 30.5], # 燦 HD（実績ROE）\n",
    "    [5.4, 13.71, 23.8, 30.5], # 予想ROE\n",
    "    [8.4, 12.81, 5.7, 68],\n",
    "    [7.5, 6.3, 32.1, 0],\n",
    "    [16.1, 6, 12.7, 35.6],\n",
    "    [14.2, 24.3, 78.9, 40.4],\n",
    "    [12.4, 10, 35.1, 25.6],\n",
    "    [8.3, 17, 5.7, 68], # ARE HD\n",
    "    [8.4, 9.5, 7.5, 19.8]\n",
    "])\n",
    "\n",
    "X_new_sc = sc.transform(X_new)\n",
    "lr_pred = lr.predict(X_new_sc)\n",
    "\n",
    "lr_pred"
   ]
  },
  {
   "cell_type": "code",
   "execution_count": 28,
   "id": "08ad7d26",
   "metadata": {},
   "outputs": [
    {
     "name": "stderr",
     "output_type": "stream",
     "text": [
      "/Library/Frameworks/Python.framework/Versions/3.11/lib/python3.11/site-packages/sklearn/base.py:465: UserWarning: X does not have valid feature names, but StandardScaler was fitted with feature names\n",
      "  warnings.warn(\n"
     ]
    },
    {
     "data": {
      "text/plain": [
       "array([1.1228194 , 1.94298024, 1.09451795, 0.2611463 , 0.45718883,\n",
       "       3.3402462 ])"
      ]
     },
     "execution_count": 28,
     "metadata": {},
     "output_type": "execute_result"
    }
   ],
   "source": [
    "X_new = np.array([\n",
    "    [9.3, 8.5, 12.8, 17.6], # 三菱倉庫(1)\n",
    "    [25.4, 8.6, 14.3, 31.2], # 三井倉庫(2.2)\n",
    "    [13.2, 7.6, 12, 18.1], # 住友倉庫(0.9)\n",
    "    [9.4, 5.2, 11, 23.9], # 日本トランスシティ(0.6)\n",
    "    [10, 5.9, 11.2, 25.5], # 澁澤倉庫(0.8)\n",
    "    [13, 14.4, 44.6, 0.8], # 安田倉庫(0.6)\n",
    "    \n",
    "])\n",
    "\n",
    "X_new_sc = sc.transform(X_new)\n",
    "lr_pred = lr.predict(X_new_sc)\n",
    "\n",
    "lr_pred"
   ]
  },
  {
   "cell_type": "code",
   "execution_count": 29,
   "id": "b1f6a55d",
   "metadata": {},
   "outputs": [
    {
     "name": "stderr",
     "output_type": "stream",
     "text": [
      "/Library/Frameworks/Python.framework/Versions/3.11/lib/python3.11/site-packages/sklearn/base.py:465: UserWarning: X does not have valid feature names, but StandardScaler was fitted with feature names\n",
      "  warnings.warn(\n"
     ]
    },
    {
     "data": {
      "text/plain": [
       "array([1.17218202, 7.83361651, 4.80267607, 4.08543793, 4.24083071,\n",
       "       3.51793086])"
      ]
     },
     "execution_count": 29,
     "metadata": {},
     "output_type": "execute_result"
    }
   ],
   "source": [
    "X_new = np.array([\n",
    "   [19.5, 4.6, 37.4, 3.4], # アイサンテクノロジー\n",
    "   [12.4, 34.4, 26.2, 11.3], # コンセプトテクノロジー\n",
    "   [36.4, 14.6, 58, 5.8], # Arent\n",
    "   [14.2, 17, 51.4, 10.6], # シーティーエス\n",
    "   [14.8, 15.5, 79.2, 0], # 福井コンピュータ\n",
    "   [12.1, 14.8, 52.6, 0] # 明豊ファシリティ\n",
    "])\n",
    "\n",
    "X_new_sc = sc.transform(X_new)\n",
    "lr_pred = lr.predict(X_new_sc)\n",
    "\n",
    "lr_pred"
   ]
  },
  {
   "cell_type": "code",
   "execution_count": 30,
   "id": "daa5481f",
   "metadata": {},
   "outputs": [
    {
     "name": "stderr",
     "output_type": "stream",
     "text": [
      "/Library/Frameworks/Python.framework/Versions/3.11/lib/python3.11/site-packages/sklearn/base.py:465: UserWarning: X does not have valid feature names, but StandardScaler was fitted with feature names\n",
      "  warnings.warn(\n"
     ]
    },
    {
     "data": {
      "text/plain": [
       "array([1.97208476, 2.29536108, 2.86575779, 1.91751305])"
      ]
     },
     "execution_count": 30,
     "metadata": {},
     "output_type": "execute_result"
    }
   ],
   "source": [
    "X_new = np.array([\n",
    "    [16.8, 8.3, 39.3, 1.2], # ヨクヨ\n",
    "    [9.2, 11.9, 33.6, 12.4], # オカムラ\n",
    "    [11.2, 13.9, 39.9, 33.3], # イトーキ\n",
    "    [10.8, 10.8, 17.2, 2.2], # 内田洋行\n",
    "    \n",
    "])\n",
    "\n",
    "X_new_sc = sc.transform(X_new)\n",
    "lr_pred = lr.predict(X_new_sc)\n",
    "\n",
    "lr_pred"
   ]
  },
  {
   "cell_type": "code",
   "execution_count": 37,
   "id": "feb5d225",
   "metadata": {},
   "outputs": [
    {
     "name": "stderr",
     "output_type": "stream",
     "text": [
      "/Library/Frameworks/Python.framework/Versions/3.11/lib/python3.11/site-packages/sklearn/base.py:465: UserWarning: X does not have valid feature names, but StandardScaler was fitted with feature names\n",
      "  warnings.warn(\n"
     ]
    },
    {
     "data": {
      "text/plain": [
       "array([3.86694774, 3.92944632, 0.7235585 , 2.70746341, 3.21343243,\n",
       "       4.71623183, 2.23304892])"
      ]
     },
     "execution_count": 37,
     "metadata": {},
     "output_type": "execute_result"
    }
   ],
   "source": [
    "X_new = np.array([\n",
    "    [11.5, 16.25, 54.4, 0],\n",
    "    [12.3, 19.83, 10.3, 30.1],\n",
    "    [12.3, 6.66, 10.3, 30.1],\n",
    "    [8.8, 14.8, 16.2, 13.2],\n",
    "    [15.8, 14.5, 24.9, 0],\n",
    "    [14.9, 18.6, 69.1, 22.6],\n",
    "    [8.4, 15, 3.9, 68],       # AREHD\n",
    "])\n",
    "\n",
    "X_new_sc = sc.transform(X_new)\n",
    "\n",
    "lr_pred = lr.predict(X_new_sc)\n",
    "\n",
    "lr_pred"
   ]
  },
  {
   "cell_type": "code",
   "execution_count": 38,
   "id": "b8b9ca44",
   "metadata": {},
   "outputs": [
    {
     "data": {
      "text/plain": [
       "2.027272727272727"
      ]
     },
     "execution_count": 38,
     "metadata": {},
     "output_type": "execute_result"
    }
   ],
   "source": [
    "2.23 / 1.1"
   ]
  }
 ],
 "metadata": {
  "kernelspec": {
   "display_name": "Python 3",
   "language": "python",
   "name": "python3"
  },
  "language_info": {
   "codemirror_mode": {
    "name": "ipython",
    "version": 3
   },
   "file_extension": ".py",
   "mimetype": "text/x-python",
   "name": "python",
   "nbconvert_exporter": "python",
   "pygments_lexer": "ipython3",
   "version": "3.11.4"
  }
 },
 "nbformat": 4,
 "nbformat_minor": 5
}
